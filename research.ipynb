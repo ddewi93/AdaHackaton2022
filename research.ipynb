{
 "cells": [
  {
   "cell_type": "code",
   "execution_count": 83,
   "metadata": {},
   "outputs": [
    {
     "name": "stdout",
     "output_type": "stream",
     "text": [
      "['naturalearth_cities', 'naturalearth_lowres', 'nybb']\n"
     ]
    },
    {
     "ename": "DriverError",
     "evalue": "'/vsizip/zip:/map.zip' does not exist in the file system, and is not recognized as a supported dataset name.",
     "output_type": "error",
     "traceback": [
      "\u001b[0;31m---------------------------------------------------------------------------\u001b[0m",
      "\u001b[0;31mCPLE_OpenFailedError\u001b[0m                      Traceback (most recent call last)",
      "File \u001b[0;32mfiona/_shim.pyx:83\u001b[0m, in \u001b[0;36mfiona._shim.gdal_open_vector\u001b[0;34m()\u001b[0m\n",
      "File \u001b[0;32mfiona/_err.pyx:270\u001b[0m, in \u001b[0;36mfiona._err.exc_wrap_pointer\u001b[0;34m()\u001b[0m\n",
      "\u001b[0;31mCPLE_OpenFailedError\u001b[0m: '/vsizip/zip:/map.zip' does not exist in the file system, and is not recognized as a supported dataset name.",
      "\nDuring handling of the above exception, another exception occurred:\n",
      "\u001b[0;31mDriverError\u001b[0m                               Traceback (most recent call last)",
      "\u001b[1;32m/Users/anish/Library/CloudStorage/GoogleDrive-anishsarum@gmail.com/My Drive/GoodNotes/Project Support Materials/Participate in AdaHack/AdaHackaton2022/research.ipynb Cell 1\u001b[0m in \u001b[0;36m<cell line: 32>\u001b[0;34m()\u001b[0m\n\u001b[1;32m     <a href='vscode-notebook-cell:/Users/anish/Library/CloudStorage/GoogleDrive-anishsarum%40gmail.com/My%20Drive/GoodNotes/Project%20Support%20Materials/Participate%20in%20AdaHack/AdaHackaton2022/research.ipynb#W0sZmlsZQ%3D%3D?line=27'>28</a>\u001b[0m df_coordinates\n\u001b[1;32m     <a href='vscode-notebook-cell:/Users/anish/Library/CloudStorage/GoogleDrive-anishsarum%40gmail.com/My%20Drive/GoodNotes/Project%20Support%20Materials/Participate%20in%20AdaHack/AdaHackaton2022/research.ipynb#W0sZmlsZQ%3D%3D?line=29'>30</a>\u001b[0m fig, ax \u001b[39m=\u001b[39m plt\u001b[39m.\u001b[39msubplots(figsize\u001b[39m=\u001b[39m(\u001b[39m8\u001b[39m,\u001b[39m6\u001b[39m))\n\u001b[0;32m---> <a href='vscode-notebook-cell:/Users/anish/Library/CloudStorage/GoogleDrive-anishsarum%40gmail.com/My%20Drive/GoodNotes/Project%20Support%20Materials/Participate%20in%20AdaHack/AdaHackaton2022/research.ipynb#W0sZmlsZQ%3D%3D?line=31'>32</a>\u001b[0m countries \u001b[39m=\u001b[39m gpd\u001b[39m.\u001b[39;49mread_file(\u001b[39m\"\u001b[39;49m\u001b[39mzip:/map.zip\u001b[39;49m\u001b[39m\"\u001b[39;49m)\n\u001b[1;32m     <a href='vscode-notebook-cell:/Users/anish/Library/CloudStorage/GoogleDrive-anishsarum%40gmail.com/My%20Drive/GoodNotes/Project%20Support%20Materials/Participate%20in%20AdaHack/AdaHackaton2022/research.ipynb#W0sZmlsZQ%3D%3D?line=32'>33</a>\u001b[0m countries[countries[\u001b[39m\"\u001b[39m\u001b[39mname\u001b[39m\u001b[39m\"\u001b[39m] \u001b[39m==\u001b[39m \u001b[39m\"\u001b[39m\u001b[39mUnited Kingdom\u001b[39m\u001b[39m\"\u001b[39m]\u001b[39m.\u001b[39mplot(color\u001b[39m=\u001b[39m\u001b[39m\"\u001b[39m\u001b[39mlightgrey\u001b[39m\u001b[39m\"\u001b[39m, ax\u001b[39m=\u001b[39max)\n\u001b[1;32m     <a href='vscode-notebook-cell:/Users/anish/Library/CloudStorage/GoogleDrive-anishsarum%40gmail.com/My%20Drive/GoodNotes/Project%20Support%20Materials/Participate%20in%20AdaHack/AdaHackaton2022/research.ipynb#W0sZmlsZQ%3D%3D?line=34'>35</a>\u001b[0m plt \u001b[39m=\u001b[39m sns\u001b[39m.\u001b[39mscatterplot(x \u001b[39m=\u001b[39m \u001b[39m\"\u001b[39m\u001b[39mlng\u001b[39m\u001b[39m\"\u001b[39m, y \u001b[39m=\u001b[39m \u001b[39m\"\u001b[39m\u001b[39mlat\u001b[39m\u001b[39m\"\u001b[39m, data \u001b[39m=\u001b[39m df_coordinates, size \u001b[39m=\u001b[39m \u001b[39m\"\u001b[39m\u001b[39mDiffMeanHourlyPercent\u001b[39m\u001b[39m\"\u001b[39m, sizes \u001b[39m=\u001b[39m (\u001b[39m40\u001b[39m, \u001b[39m400\u001b[39m), ax \u001b[39m=\u001b[39m ax)\n",
      "File \u001b[0;32m~/opt/miniconda3/lib/python3.9/site-packages/geopandas/io/file.py:160\u001b[0m, in \u001b[0;36m_read_file\u001b[0;34m(filename, bbox, mask, rows, **kwargs)\u001b[0m\n\u001b[1;32m    157\u001b[0m     reader \u001b[39m=\u001b[39m fiona\u001b[39m.\u001b[39mopen\n\u001b[1;32m    159\u001b[0m \u001b[39mwith\u001b[39;00m fiona_env():\n\u001b[0;32m--> 160\u001b[0m     \u001b[39mwith\u001b[39;00m reader(path_or_bytes, \u001b[39m*\u001b[39;49m\u001b[39m*\u001b[39;49mkwargs) \u001b[39mas\u001b[39;00m features:\n\u001b[1;32m    161\u001b[0m \n\u001b[1;32m    162\u001b[0m         \u001b[39m# In a future Fiona release the crs attribute of features will\u001b[39;00m\n\u001b[1;32m    163\u001b[0m         \u001b[39m# no longer be a dict, but will behave like a dict. So this should\u001b[39;00m\n\u001b[1;32m    164\u001b[0m         \u001b[39m# be forwards compatible\u001b[39;00m\n\u001b[1;32m    165\u001b[0m         crs \u001b[39m=\u001b[39m (\n\u001b[1;32m    166\u001b[0m             features\u001b[39m.\u001b[39mcrs[\u001b[39m\"\u001b[39m\u001b[39minit\u001b[39m\u001b[39m\"\u001b[39m]\n\u001b[1;32m    167\u001b[0m             \u001b[39mif\u001b[39;00m features\u001b[39m.\u001b[39mcrs \u001b[39mand\u001b[39;00m \u001b[39m\"\u001b[39m\u001b[39minit\u001b[39m\u001b[39m\"\u001b[39m \u001b[39min\u001b[39;00m features\u001b[39m.\u001b[39mcrs\n\u001b[1;32m    168\u001b[0m             \u001b[39melse\u001b[39;00m features\u001b[39m.\u001b[39mcrs_wkt\n\u001b[1;32m    169\u001b[0m         )\n\u001b[1;32m    171\u001b[0m         \u001b[39m# handle loading the bounding box\u001b[39;00m\n",
      "File \u001b[0;32m~/opt/miniconda3/lib/python3.9/site-packages/fiona/env.py:398\u001b[0m, in \u001b[0;36mensure_env_with_credentials.<locals>.wrapper\u001b[0;34m(*args, **kwargs)\u001b[0m\n\u001b[1;32m    395\u001b[0m \u001b[39m@wraps\u001b[39m(f)\n\u001b[1;32m    396\u001b[0m \u001b[39mdef\u001b[39;00m \u001b[39mwrapper\u001b[39m(\u001b[39m*\u001b[39margs, \u001b[39m*\u001b[39m\u001b[39m*\u001b[39mkwargs):\n\u001b[1;32m    397\u001b[0m     \u001b[39mif\u001b[39;00m local\u001b[39m.\u001b[39m_env:\n\u001b[0;32m--> 398\u001b[0m         \u001b[39mreturn\u001b[39;00m f(\u001b[39m*\u001b[39;49margs, \u001b[39m*\u001b[39;49m\u001b[39m*\u001b[39;49mkwargs)\n\u001b[1;32m    399\u001b[0m     \u001b[39melse\u001b[39;00m:\n\u001b[1;32m    400\u001b[0m         \u001b[39mif\u001b[39;00m \u001b[39misinstance\u001b[39m(args[\u001b[39m0\u001b[39m], \u001b[39mstr\u001b[39m):\n",
      "File \u001b[0;32m~/opt/miniconda3/lib/python3.9/site-packages/fiona/__init__.py:253\u001b[0m, in \u001b[0;36mopen\u001b[0;34m(fp, mode, driver, schema, crs, encoding, layer, vfs, enabled_drivers, crs_wkt, **kwargs)\u001b[0m\n\u001b[1;32m    250\u001b[0m     path \u001b[39m=\u001b[39m parse_path(fp)\n\u001b[1;32m    252\u001b[0m \u001b[39mif\u001b[39;00m mode \u001b[39min\u001b[39;00m (\u001b[39m'\u001b[39m\u001b[39ma\u001b[39m\u001b[39m'\u001b[39m, \u001b[39m'\u001b[39m\u001b[39mr\u001b[39m\u001b[39m'\u001b[39m):\n\u001b[0;32m--> 253\u001b[0m     c \u001b[39m=\u001b[39m Collection(path, mode, driver\u001b[39m=\u001b[39;49mdriver, encoding\u001b[39m=\u001b[39;49mencoding,\n\u001b[1;32m    254\u001b[0m                    layer\u001b[39m=\u001b[39;49mlayer, enabled_drivers\u001b[39m=\u001b[39;49menabled_drivers, \u001b[39m*\u001b[39;49m\u001b[39m*\u001b[39;49mkwargs)\n\u001b[1;32m    255\u001b[0m \u001b[39melif\u001b[39;00m mode \u001b[39m==\u001b[39m \u001b[39m'\u001b[39m\u001b[39mw\u001b[39m\u001b[39m'\u001b[39m:\n\u001b[1;32m    256\u001b[0m     \u001b[39mif\u001b[39;00m schema:\n\u001b[1;32m    257\u001b[0m         \u001b[39m# Make an ordered dict of schema properties.\u001b[39;00m\n",
      "File \u001b[0;32m~/opt/miniconda3/lib/python3.9/site-packages/fiona/collection.py:154\u001b[0m, in \u001b[0;36mCollection.__init__\u001b[0;34m(self, path, mode, driver, schema, crs, encoding, layer, vsi, archive, enabled_drivers, crs_wkt, ignore_fields, ignore_geometry, **kwargs)\u001b[0m\n\u001b[1;32m    152\u001b[0m \u001b[39mif\u001b[39;00m \u001b[39mself\u001b[39m\u001b[39m.\u001b[39mmode \u001b[39m==\u001b[39m \u001b[39m'\u001b[39m\u001b[39mr\u001b[39m\u001b[39m'\u001b[39m:\n\u001b[1;32m    153\u001b[0m     \u001b[39mself\u001b[39m\u001b[39m.\u001b[39msession \u001b[39m=\u001b[39m Session()\n\u001b[0;32m--> 154\u001b[0m     \u001b[39mself\u001b[39;49m\u001b[39m.\u001b[39;49msession\u001b[39m.\u001b[39;49mstart(\u001b[39mself\u001b[39;49m, \u001b[39m*\u001b[39;49m\u001b[39m*\u001b[39;49mkwargs)\n\u001b[1;32m    155\u001b[0m \u001b[39melif\u001b[39;00m \u001b[39mself\u001b[39m\u001b[39m.\u001b[39mmode \u001b[39min\u001b[39;00m (\u001b[39m'\u001b[39m\u001b[39ma\u001b[39m\u001b[39m'\u001b[39m, \u001b[39m'\u001b[39m\u001b[39mw\u001b[39m\u001b[39m'\u001b[39m):\n\u001b[1;32m    156\u001b[0m     \u001b[39mself\u001b[39m\u001b[39m.\u001b[39msession \u001b[39m=\u001b[39m WritingSession()\n",
      "File \u001b[0;32mfiona/ogrext.pyx:484\u001b[0m, in \u001b[0;36mfiona.ogrext.Session.start\u001b[0;34m()\u001b[0m\n",
      "File \u001b[0;32mfiona/_shim.pyx:90\u001b[0m, in \u001b[0;36mfiona._shim.gdal_open_vector\u001b[0;34m()\u001b[0m\n",
      "\u001b[0;31mDriverError\u001b[0m: '/vsizip/zip:/map.zip' does not exist in the file system, and is not recognized as a supported dataset name."
     ]
    },
    {
     "data": {
      "image/png": "[encoded data removed]",
      "text/plain": [
       "<Figure size 576x432 with 1 Axes>"
      ]
     },
     "metadata": {
      "needs_background": "light"
     },
     "output_type": "display_data"
    }
   ],
   "source": [
    "# Check UK Gender Pay Gap in the UK\n",
    "# Datasets from:\n",
    "# https://www.gov.uk/government/stat\n",
    "# https://simplemaps.com/data/gb-cities\n",
    "\n",
    "import pandas as pd\n",
    "import numpy as np\n",
    "import matplotlib.pyplot as plt\n",
    "import seaborn as sns\n",
    "import geopandas as gpd\n",
    "\n",
    "print(gpd.datasets.available)\n",
    "\n",
    "# Read the data\n",
    "df = pd.read_csv('uk-pay-gap.csv')\n",
    "post_code_to_region = pd.read_csv('postcode-area-to-name.csv')\n",
    "city_to_coordinates = pd.read_csv('worldcities.csv')\n",
    "city_to_coordinates_uk = city_to_coordinates[city_to_coordinates['country'] == 'United Kingdom']\n",
    "\n",
    "pat = df[\"PostCode\"].str.extract('([^[0-9]+)', expand = False)\n",
    "grouped = df.groupby(pat)\n",
    "\n",
    "data = grouped[\"DiffMeanHourlyPercent\"].mean().sort_values(ascending=False)\n",
    "data_filtered = data[data.index.isin(post_code_to_region[\"PostCode\"])]\n",
    "df_data = data_filtered.to_frame().merge(post_code_to_region, on=\"PostCode\")\n",
    "\n",
    "df_coordinates = df_data.merge(city_to_coordinates_uk, on = \"city\")\n",
    "df_coordinates\n",
    "\n",
    "fig, ax = plt.subplots(figsize=(8,6))\n",
    "\n",
    "countries = gpd.read_file(\"zip:/map.zip\")\n",
    "countries[countries[\"name\"] == \"United Kingdom\"].plot(color=\"lightgrey\", ax=ax)\n",
    "\n",
    "plt = sns.scatterplot(x = \"lng\", y = \"lat\", data = df_coordinates, size = \"DiffMeanHourlyPercent\", sizes = (40, 400), ax = ax)\n",
    "# plt = sns.barplot(y = df_data['Name'], x = df_data['DiffMeanHourlyPercent'])\n",
    "# plt.set(title = 'Gender pay gap in the UK by city', xlabel='Gender pay gap (%)', ylabel='Postcode Area')\n",
    "plt.figure.set_figheight(8)\n",
    "plt.figure.set_figwidth(8)\n",
    "plt.axis('equal')"
   ]
  },
  {
   "cell_type": "code",
   "execution_count": null,
   "metadata": {},
   "outputs": [],
   "source": [
    "T"
   ]
  }
 ],
 "metadata": {
  "kernelspec": {
   "display_name": "Python 3.9.12 ('base')",
   "language": "python",
   "name": "python3"
  },
  "language_info": {
   "codemirror_mode": {
    "name": "ipython",
    "version": 3
   },
   "file_extension": ".py",
   "mimetype": "text/x-python",
   "name": "python",
   "nbconvert_exporter": "python",
   "pygments_lexer": "ipython3",
   "version": "3.9.12"
  },
  "orig_nbformat": 4,
  "vscode": {
   "interpreter": {
    "hash": "b3942eff4236edae9767d0a8425f521981eeacb39c364b8ae449af03e40a2a85"
   }
  }
 },
 "nbformat": 4,
 "nbformat_minor": 2
}
