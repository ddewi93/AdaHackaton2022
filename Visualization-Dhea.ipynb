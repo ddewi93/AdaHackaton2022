{
 "cells": [
  {
   "cell_type": "code",
   "execution_count": 5,
   "id": "a0607a7a",
   "metadata": {},
   "outputs": [],
   "source": [
    "import pandas as pd\n",
    "import matplotlib.pyplot as plt\n",
    "import seaborn as sns"
   ]
  },
  {
   "cell_type": "code",
   "execution_count": 65,
   "id": "e54d0a27",
   "metadata": {},
   "outputs": [
    {
     "name": "stdout",
     "output_type": "stream",
     "text": [
      "              JobTitle  Gender  Age  PerfEval Education            Dept  \\\n",
      "0     Graphic Designer  Female   18         5   College      Operations   \n",
      "1    Software Engineer    Male   21         5   College      Management   \n",
      "2  Warehouse Associate  Female   19         4       PhD  Administration   \n",
      "3    Software Engineer    Male   20         5   Masters           Sales   \n",
      "4     Graphic Designer    Male   26         5   Masters     Engineering   \n",
      "\n",
      "   Seniority  BasePay  Bonus  \n",
      "0          2    42363   9938  \n",
      "1          5   108476  11128  \n",
      "2          5    90208   9268  \n",
      "3          4   108080  10154  \n",
      "4          5    99464   9319  \n",
      "               JobTitle  Gender  Age  PerfEval Education            Dept  \\\n",
      "3     Software Engineer    Male   20         5   Masters           Sales   \n",
      "4      Graphic Designer    Male   26         5   Masters     Engineering   \n",
      "13  Warehouse Associate  Female   30         5   Masters  Administration   \n",
      "26    Software Engineer    Male   19         5   Masters  Administration   \n",
      "30    Software Engineer    Male   20         5   Masters      Management   \n",
      "\n",
      "    Seniority  BasePay  Bonus  \n",
      "3           4   108080  10154  \n",
      "4           5    99464   9319  \n",
      "13          5    86220   9583  \n",
      "26          4   100305   9618  \n",
      "30          2    66359  10137  \n"
     ]
    }
   ],
   "source": [
    "salaries = pd.read_csv('Glassdoor Gender Pay Gap.csv')\n",
    "print(salaries.head())\n",
    "salaries_masters = salaries[salaries['Education']=='Masters']\n",
    "salaries_datascientist = salaries[salaries['JobTitle']=='Data Scientist']\n",
    "print(salaries_masters.head())"
   ]
  },
  {
   "cell_type": "code",
   "execution_count": 56,
   "id": "9a734197",
   "metadata": {},
   "outputs": [
    {
     "data": {
      "text/html": [
       "<div>\n",
       "<style scoped>\n",
       "    .dataframe tbody tr th:only-of-type {\n",
       "        vertical-align: middle;\n",
       "    }\n",
       "\n",
       "    .dataframe tbody tr th {\n",
       "        vertical-align: top;\n",
       "    }\n",
       "\n",
       "    .dataframe thead th {\n",
       "        text-align: right;\n",
       "    }\n",
       "</style>\n",
       "<table border=\"1\" class=\"dataframe\">\n",
       "  <thead>\n",
       "    <tr style=\"text-align: right;\">\n",
       "      <th></th>\n",
       "      <th>Age</th>\n",
       "      <th>PerfEval</th>\n",
       "      <th>Seniority</th>\n",
       "      <th>BasePay</th>\n",
       "      <th>Bonus</th>\n",
       "    </tr>\n",
       "  </thead>\n",
       "  <tbody>\n",
       "    <tr>\n",
       "      <th>count</th>\n",
       "      <td>1000.000000</td>\n",
       "      <td>1000.000000</td>\n",
       "      <td>1000.000000</td>\n",
       "      <td>1000.000000</td>\n",
       "      <td>1000.000000</td>\n",
       "    </tr>\n",
       "    <tr>\n",
       "      <th>mean</th>\n",
       "      <td>41.393000</td>\n",
       "      <td>3.037000</td>\n",
       "      <td>2.971000</td>\n",
       "      <td>94472.653000</td>\n",
       "      <td>6467.161000</td>\n",
       "    </tr>\n",
       "    <tr>\n",
       "      <th>std</th>\n",
       "      <td>14.294856</td>\n",
       "      <td>1.423959</td>\n",
       "      <td>1.395029</td>\n",
       "      <td>25337.493272</td>\n",
       "      <td>2004.377365</td>\n",
       "    </tr>\n",
       "    <tr>\n",
       "      <th>min</th>\n",
       "      <td>18.000000</td>\n",
       "      <td>1.000000</td>\n",
       "      <td>1.000000</td>\n",
       "      <td>34208.000000</td>\n",
       "      <td>1703.000000</td>\n",
       "    </tr>\n",
       "    <tr>\n",
       "      <th>25%</th>\n",
       "      <td>29.000000</td>\n",
       "      <td>2.000000</td>\n",
       "      <td>2.000000</td>\n",
       "      <td>76850.250000</td>\n",
       "      <td>4849.500000</td>\n",
       "    </tr>\n",
       "    <tr>\n",
       "      <th>50%</th>\n",
       "      <td>41.000000</td>\n",
       "      <td>3.000000</td>\n",
       "      <td>3.000000</td>\n",
       "      <td>93327.500000</td>\n",
       "      <td>6507.000000</td>\n",
       "    </tr>\n",
       "    <tr>\n",
       "      <th>75%</th>\n",
       "      <td>54.250000</td>\n",
       "      <td>4.000000</td>\n",
       "      <td>4.000000</td>\n",
       "      <td>111558.000000</td>\n",
       "      <td>8026.000000</td>\n",
       "    </tr>\n",
       "    <tr>\n",
       "      <th>max</th>\n",
       "      <td>65.000000</td>\n",
       "      <td>5.000000</td>\n",
       "      <td>5.000000</td>\n",
       "      <td>179726.000000</td>\n",
       "      <td>11293.000000</td>\n",
       "    </tr>\n",
       "  </tbody>\n",
       "</table>\n",
       "</div>"
      ],
      "text/plain": [
       "               Age     PerfEval    Seniority        BasePay         Bonus\n",
       "count  1000.000000  1000.000000  1000.000000    1000.000000   1000.000000\n",
       "mean     41.393000     3.037000     2.971000   94472.653000   6467.161000\n",
       "std      14.294856     1.423959     1.395029   25337.493272   2004.377365\n",
       "min      18.000000     1.000000     1.000000   34208.000000   1703.000000\n",
       "25%      29.000000     2.000000     2.000000   76850.250000   4849.500000\n",
       "50%      41.000000     3.000000     3.000000   93327.500000   6507.000000\n",
       "75%      54.250000     4.000000     4.000000  111558.000000   8026.000000\n",
       "max      65.000000     5.000000     5.000000  179726.000000  11293.000000"
      ]
     },
     "execution_count": 56,
     "metadata": {},
     "output_type": "execute_result"
    }
   ],
   "source": [
    "salaries.describe()"
   ]
  },
  {
   "cell_type": "code",
   "execution_count": 57,
   "id": "13966545",
   "metadata": {},
   "outputs": [
    {
     "name": "stdout",
     "output_type": "stream",
     "text": [
      "Average female basepay on Glassdoor:\n",
      "89942.81837606838\n",
      "The lowest female basepay on Glassdoor:\n",
      "34208\n",
      "The highest female basepay on Glassdoor:\n",
      "160614\n"
     ]
    }
   ],
   "source": [
    "salaries_female = salaries[salaries['Gender']=='Female']\n",
    "print(\"Average female basepay on Glassdoor:\")\n",
    "print(salaries_female[\"BasePay\"].mean())\n",
    "print(\"The lowest female basepay on Glassdoor:\")\n",
    "print(salaries_female[\"BasePay\"].min())\n",
    "print(\"The highest female basepay on Glassdoor:\")\n",
    "print(salaries_female[\"BasePay\"].max())"
   ]
  },
  {
   "cell_type": "code",
   "execution_count": 58,
   "id": "e1c16253",
   "metadata": {
    "scrolled": true
   },
   "outputs": [
    {
     "name": "stdout",
     "output_type": "stream",
     "text": [
      "Average male basepay on Glassdoor:\n",
      "98457.54511278195\n",
      "The lowest male basepay on Glassdoor:\n",
      "36642\n",
      "The lowest male basepay on Glassdoor:\n",
      "179726\n"
     ]
    }
   ],
   "source": [
    "salaries_male = salaries[salaries['Gender']=='Male']\n",
    "print(\"Average male basepay on Glassdoor:\")\n",
    "print(salaries_male[\"BasePay\"].mean())\n",
    "print(\"The lowest male basepay on Glassdoor:\")\n",
    "print(salaries_male[\"BasePay\"].min())\n",
    "print(\"The highest male basepay on Glassdoor:\")\n",
    "print(salaries_male[\"BasePay\"].max())"
   ]
  },
  {
   "cell_type": "code",
   "execution_count": 68,
   "id": "1e23a10e",
   "metadata": {
    "scrolled": true
   },
   "outputs": [
    {
     "data": {
      "image/png": "[encoded data removed]",
      "text/plain": [
       "<Figure size 432x288 with 1 Axes>"
      ]
     },
     "metadata": {
      "needs_background": "light"
     },
     "output_type": "display_data"
    }
   ],
   "source": [
    "sns.color_palette(\"colorblind\")\n",
    "sns.histplot(data=salaries, x=\"JobTitle\", hue=\"Gender\", multiple='dodge', shrink=.8)\n",
    "plt.xticks(rotation=90)\n",
    "plt.show()"
   ]
  },
  {
   "cell_type": "code",
   "execution_count": 75,
   "id": "a098a103",
   "metadata": {
    "scrolled": true
   },
   "outputs": [
    {
     "data": {
      "image/png": "[encoded data removed]",
      "text/plain": [
       "<Figure size 432x288 with 1 Axes>"
      ]
     },
     "metadata": {
      "needs_background": "light"
     },
     "output_type": "display_data"
    }
   ],
   "source": [
    "sns.color_palette(\"colorblind\")\n",
    "sns.histplot(data=salaries_masters, x=\"BasePay\", hue=\"Gender\", multiple='dodge', shrink=.8, bins=5)\n",
    "plt.xticks(rotation=90)\n",
    "plt.show()"
   ]
  },
  {
   "cell_type": "code",
   "execution_count": 77,
   "id": "efeb21d1",
   "metadata": {},
   "outputs": [
    {
     "name": "stdout",
     "output_type": "stream",
     "text": [
      "Average female data scientist basepay on Glassdoor:\n",
      "95704.7924528302\n",
      "The lowest female basepay on Glassdoor:\n",
      "40056\n",
      "The highest female basepay on Glassdoor:\n",
      "141005\n",
      "Average male data scientist basepay on Glassdoor:\n",
      "89222.62962962964\n",
      "The lowest male basepay on Glassdoor:\n",
      "50401\n",
      "The highest male basepay on Glassdoor:\n",
      "128730\n"
     ]
    }
   ],
   "source": [
    "salaries_female_datascientist = salaries_female[salaries_female['JobTitle']=='Data Scientist']\n",
    "print(\"Average female data scientist basepay on Glassdoor:\")\n",
    "print(salaries_female_datascientist[\"BasePay\"].mean())\n",
    "print(\"The lowest female basepay on Glassdoor:\")\n",
    "print(salaries_female_datascientist[\"BasePay\"].min())\n",
    "print(\"The highest female basepay on Glassdoor:\")\n",
    "print(salaries_female_datascientist[\"BasePay\"].max())\n",
    "\n",
    "salaries_male_datascientist = salaries_male[salaries_male['JobTitle']=='Data Scientist']\n",
    "print(\"Average male data scientist basepay on Glassdoor:\")\n",
    "print(salaries_male_datascientist[\"BasePay\"].mean())\n",
    "print(\"The lowest male basepay on Glassdoor:\")\n",
    "print(salaries_male_datascientist[\"BasePay\"].min())\n",
    "print(\"The highest male basepay on Glassdoor:\")\n",
    "print(salaries_male_datascientist[\"BasePay\"].max())"
   ]
  },
  {
   "cell_type": "code",
   "execution_count": 80,
   "id": "4d0a92ff",
   "metadata": {},
   "outputs": [
    {
     "name": "stdout",
     "output_type": "stream",
     "text": [
      "Average female software engineer basepay on Glassdoor:\n",
      "94701.0\n",
      "The lowest female basepay on Glassdoor:\n",
      "65711\n",
      "The highest female basepay on Glassdoor:\n",
      "117131\n",
      "Average male software engineer basepay on Glassdoor:\n",
      "106371.48514851485\n",
      "The lowest male basepay on Glassdoor:\n",
      "55555\n",
      "The highest male basepay on Glassdoor:\n",
      "160460\n"
     ]
    }
   ],
   "source": [
    "salaries_female_softeng = salaries_female[salaries_female['JobTitle']=='Software Engineer']\n",
    "print(\"Average female software engineer basepay on Glassdoor:\")\n",
    "print(salaries_female_softeng[\"BasePay\"].mean())\n",
    "print(\"The lowest female basepay on Glassdoor:\")\n",
    "print(salaries_female_softeng[\"BasePay\"].min())\n",
    "print(\"The highest female basepay on Glassdoor:\")\n",
    "print(salaries_female_softeng[\"BasePay\"].max())\n",
    "\n",
    "salaries_male_softeng = salaries_male[salaries_male['JobTitle']=='Software Engineer']\n",
    "print(\"Average male software engineer basepay on Glassdoor:\")\n",
    "print(salaries_male_softeng[\"BasePay\"].mean())\n",
    "print(\"The lowest male basepay on Glassdoor:\")\n",
    "print(salaries_male_softeng[\"BasePay\"].min())\n",
    "print(\"The highest male basepay on Glassdoor:\")\n",
    "print(salaries_male_softeng[\"BasePay\"].max())"
   ]
  },
  {
   "cell_type": "code",
   "execution_count": 66,
   "id": "1e22d5b3",
   "metadata": {},
   "outputs": [
    {
     "data": {
      "image/png": "[encoded data removed]",
      "text/plain": [
       "<Figure size 432x288 with 1 Axes>"
      ]
     },
     "metadata": {
      "needs_background": "light"
     },
     "output_type": "display_data"
    }
   ],
   "source": [
    "sns.color_palette(\"colorblind\")\n",
    "sns.histplot(data=salaries_datascientist, x=\"BasePay\", hue=\"Gender\", multiple='dodge', shrink=.8, bins=5)\n",
    "plt.xticks(rotation=90)\n",
    "plt.show()"
   ]
  },
  {
   "cell_type": "code",
   "execution_count": 64,
   "id": "ca6591f4",
   "metadata": {},
   "outputs": [
    {
     "data": {
      "image/png": "[encoded data removed]",
      "text/plain": [
       "<Figure size 432x288 with 1 Axes>"
      ]
     },
     "metadata": {
      "needs_background": "light"
     },
     "output_type": "display_data"
    }
   ],
   "source": [
    "sns.color_palette(\"colorblind\")\n",
    "sns.histplot(data=salaries, x=\"Bonus\", hue=\"Gender\", multiple='dodge', shrink=.8, bins=5)\n",
    "plt.xticks(rotation=90)\n",
    "plt.show()"
   ]
  }
 ],
 "metadata": {
  "kernelspec": {
   "display_name": "Python 3.9.6 64-bit",
   "language": "python",
   "name": "python3"
  },
  "language_info": {
   "codemirror_mode": {
    "name": "ipython",
    "version": 3
   },
   "file_extension": ".py",
   "mimetype": "text/x-python",
   "name": "python",
   "nbconvert_exporter": "python",
   "pygments_lexer": "ipython3",
   "version": "3.9.6"
  },
  "vscode": {
   "interpreter": {
    "hash": "31f2aee4e71d21fbe5cf8b01ff0e069b9275f58929596ceb00d14d90e3e16cd6"
   }
  }
 },
 "nbformat": 4,
 "nbformat_minor": 5
}
